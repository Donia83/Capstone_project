{
 "cells": [
  {
   "cell_type": "code",
   "execution_count": 3,
   "id": "536981f3-0a87-4855-81cf-f86ed94e685f",
   "metadata": {},
   "outputs": [],
   "source": [
    "# Import required libraries\n",
    "import pandas as pd\n",
    "import plotly.graph_objects as go\n",
    "import dash\n",
    "from dash import dcc\n",
    "from dash import html\n",
    "from dash.dependencies import Input, Output\n",
    "import plotly.express as px"
   ]
  },
  {
   "cell_type": "code",
   "execution_count": 4,
   "id": "07085af8-f27c-4a31-850f-b21b960073ac",
   "metadata": {},
   "outputs": [],
   "source": [
    "df=pd.read_csv(r'https://cf-courses-data.s3.us.cloud-object-storage.appdomain.cloud/IBM-DS0321EN-SkillsNetwork/datasets/spacex_launch_dash.csv')"
   ]
  },
  {
   "cell_type": "code",
   "execution_count": 7,
   "id": "4805a7a7-485e-47e9-83c1-7db4fe8ccd27",
   "metadata": {},
   "outputs": [],
   "source": [
    "df.drop('Unnamed: 0',axis=1,inplace=True)"
   ]
  },
  {
   "cell_type": "code",
   "execution_count": 16,
   "id": "a987d8c5-a1e9-4012-a8e8-881d9ccf16a9",
   "metadata": {},
   "outputs": [
    {
     "data": {
      "text/html": [
       "<div>\n",
       "<style scoped>\n",
       "    .dataframe tbody tr th:only-of-type {\n",
       "        vertical-align: middle;\n",
       "    }\n",
       "\n",
       "    .dataframe tbody tr th {\n",
       "        vertical-align: top;\n",
       "    }\n",
       "\n",
       "    .dataframe thead th {\n",
       "        text-align: right;\n",
       "    }\n",
       "</style>\n",
       "<table border=\"1\" class=\"dataframe\">\n",
       "  <thead>\n",
       "    <tr style=\"text-align: right;\">\n",
       "      <th></th>\n",
       "      <th>Flight Number</th>\n",
       "      <th>Launch Site</th>\n",
       "      <th>class</th>\n",
       "      <th>Payload Mass (kg)</th>\n",
       "      <th>Booster Version</th>\n",
       "      <th>Booster Version Category</th>\n",
       "    </tr>\n",
       "  </thead>\n",
       "  <tbody>\n",
       "    <tr>\n",
       "      <th>0</th>\n",
       "      <td>1</td>\n",
       "      <td>CCAFS LC-40</td>\n",
       "      <td>0</td>\n",
       "      <td>0.0</td>\n",
       "      <td>F9 v1.0  B0003</td>\n",
       "      <td>v1.0</td>\n",
       "    </tr>\n",
       "    <tr>\n",
       "      <th>1</th>\n",
       "      <td>2</td>\n",
       "      <td>CCAFS LC-40</td>\n",
       "      <td>0</td>\n",
       "      <td>0.0</td>\n",
       "      <td>F9 v1.0  B0004</td>\n",
       "      <td>v1.0</td>\n",
       "    </tr>\n",
       "    <tr>\n",
       "      <th>2</th>\n",
       "      <td>3</td>\n",
       "      <td>CCAFS LC-40</td>\n",
       "      <td>0</td>\n",
       "      <td>525.0</td>\n",
       "      <td>F9 v1.0  B0005</td>\n",
       "      <td>v1.0</td>\n",
       "    </tr>\n",
       "    <tr>\n",
       "      <th>3</th>\n",
       "      <td>4</td>\n",
       "      <td>CCAFS LC-40</td>\n",
       "      <td>0</td>\n",
       "      <td>500.0</td>\n",
       "      <td>F9 v1.0  B0006</td>\n",
       "      <td>v1.0</td>\n",
       "    </tr>\n",
       "    <tr>\n",
       "      <th>4</th>\n",
       "      <td>5</td>\n",
       "      <td>CCAFS LC-40</td>\n",
       "      <td>0</td>\n",
       "      <td>677.0</td>\n",
       "      <td>F9 v1.0  B0007</td>\n",
       "      <td>v1.0</td>\n",
       "    </tr>\n",
       "  </tbody>\n",
       "</table>\n",
       "</div>"
      ],
      "text/plain": [
       "   Flight Number  Launch Site  class  Payload Mass (kg) Booster Version  \\\n",
       "0              1  CCAFS LC-40      0                0.0  F9 v1.0  B0003   \n",
       "1              2  CCAFS LC-40      0                0.0  F9 v1.0  B0004   \n",
       "2              3  CCAFS LC-40      0              525.0  F9 v1.0  B0005   \n",
       "3              4  CCAFS LC-40      0              500.0  F9 v1.0  B0006   \n",
       "4              5  CCAFS LC-40      0              677.0  F9 v1.0  B0007   \n",
       "\n",
       "  Booster Version Category  \n",
       "0                     v1.0  \n",
       "1                     v1.0  \n",
       "2                     v1.0  \n",
       "3                     v1.0  \n",
       "4                     v1.0  "
      ]
     },
     "execution_count": 16,
     "metadata": {},
     "output_type": "execute_result"
    }
   ],
   "source": [
    "df.head()"
   ]
  },
  {
   "cell_type": "code",
   "execution_count": 10,
   "id": "5617e051-1432-44e2-bc6c-63cbd7eafbc4",
   "metadata": {},
   "outputs": [
    {
     "data": {
      "text/plain": [
       "array(['CCAFS LC-40', 'VAFB SLC-4E', 'KSC LC-39A', 'CCAFS SLC-40'],\n",
       "      dtype=object)"
      ]
     },
     "execution_count": 10,
     "metadata": {},
     "output_type": "execute_result"
    }
   ],
   "source": [
    "df['Launch Site'].unique()"
   ]
  },
  {
   "cell_type": "code",
   "execution_count": 42,
   "id": "38ee2947-040f-4527-a658-a56847d91aea",
   "metadata": {},
   "outputs": [
    {
     "data": {
      "text/html": [
       "<div>\n",
       "<style scoped>\n",
       "    .dataframe tbody tr th:only-of-type {\n",
       "        vertical-align: middle;\n",
       "    }\n",
       "\n",
       "    .dataframe tbody tr th {\n",
       "        vertical-align: top;\n",
       "    }\n",
       "\n",
       "    .dataframe thead th {\n",
       "        text-align: right;\n",
       "    }\n",
       "</style>\n",
       "<table border=\"1\" class=\"dataframe\">\n",
       "  <thead>\n",
       "    <tr style=\"text-align: right;\">\n",
       "      <th></th>\n",
       "      <th>class</th>\n",
       "      <th>Launch Site</th>\n",
       "      <th>count</th>\n",
       "    </tr>\n",
       "  </thead>\n",
       "  <tbody>\n",
       "    <tr>\n",
       "      <th>0</th>\n",
       "      <td>0</td>\n",
       "      <td>CCAFS LC-40</td>\n",
       "      <td>19</td>\n",
       "    </tr>\n",
       "    <tr>\n",
       "      <th>1</th>\n",
       "      <td>0</td>\n",
       "      <td>VAFB SLC-4E</td>\n",
       "      <td>6</td>\n",
       "    </tr>\n",
       "    <tr>\n",
       "      <th>2</th>\n",
       "      <td>0</td>\n",
       "      <td>CCAFS SLC-40</td>\n",
       "      <td>4</td>\n",
       "    </tr>\n",
       "    <tr>\n",
       "      <th>3</th>\n",
       "      <td>0</td>\n",
       "      <td>KSC LC-39A</td>\n",
       "      <td>3</td>\n",
       "    </tr>\n",
       "    <tr>\n",
       "      <th>4</th>\n",
       "      <td>1</td>\n",
       "      <td>KSC LC-39A</td>\n",
       "      <td>10</td>\n",
       "    </tr>\n",
       "    <tr>\n",
       "      <th>5</th>\n",
       "      <td>1</td>\n",
       "      <td>CCAFS LC-40</td>\n",
       "      <td>7</td>\n",
       "    </tr>\n",
       "    <tr>\n",
       "      <th>6</th>\n",
       "      <td>1</td>\n",
       "      <td>VAFB SLC-4E</td>\n",
       "      <td>4</td>\n",
       "    </tr>\n",
       "    <tr>\n",
       "      <th>7</th>\n",
       "      <td>1</td>\n",
       "      <td>CCAFS SLC-40</td>\n",
       "      <td>3</td>\n",
       "    </tr>\n",
       "  </tbody>\n",
       "</table>\n",
       "</div>"
      ],
      "text/plain": [
       "   class   Launch Site  count\n",
       "0      0   CCAFS LC-40     19\n",
       "1      0   VAFB SLC-4E      6\n",
       "2      0  CCAFS SLC-40      4\n",
       "3      0    KSC LC-39A      3\n",
       "4      1    KSC LC-39A     10\n",
       "5      1   CCAFS LC-40      7\n",
       "6      1   VAFB SLC-4E      4\n",
       "7      1  CCAFS SLC-40      3"
      ]
     },
     "execution_count": 42,
     "metadata": {},
     "output_type": "execute_result"
    }
   ],
   "source": [
    "spacex_df.groupby('class',as_index=False)['Launch Site'].value_counts()"
   ]
  },
  {
   "cell_type": "code",
   "execution_count": 50,
   "id": "e16dbe4f-16ae-433a-8205-0ae3f41356ab",
   "metadata": {},
   "outputs": [
    {
     "data": {
      "text/plain": [
       "9600.0"
      ]
     },
     "execution_count": 50,
     "metadata": {},
     "output_type": "execute_result"
    }
   ],
   "source": [
    "spacex_df = df\n",
    "max_payload = spacex_df['Payload Mass (kg)'].max()\n",
    "min_payload = spacex_df['Payload Mass (kg)'].min()\n",
    "max_payload"
   ]
  },
  {
   "cell_type": "code",
   "execution_count": 64,
   "id": "9bebcf60-7f54-467d-ad5e-db4bcbeda1b9",
   "metadata": {},
   "outputs": [
    {
     "data": {
      "text/html": [
       "\n",
       "        <iframe\n",
       "            width=\"100%\"\n",
       "            height=\"650\"\n",
       "            src=\"http://127.0.0.1:8053/\"\n",
       "            frameborder=\"0\"\n",
       "            allowfullscreen\n",
       "            \n",
       "        ></iframe>\n",
       "        "
      ],
      "text/plain": [
       "<IPython.lib.display.IFrame at 0x1fd86a4ea50>"
      ]
     },
     "metadata": {},
     "output_type": "display_data"
    }
   ],
   "source": [
    "# Import required libraries\n",
    "import pandas as pd\n",
    "import dash\n",
    "import dash_html_components as html\n",
    "import dash_core_components as dcc\n",
    "from dash.dependencies import Input, Output\n",
    "import plotly.express as px\n",
    "\n",
    "# Read the airline data into pandas dataframe\n",
    "spacex_df = df\n",
    "max_payload = spacex_df['Payload Mass (kg)'].max()\n",
    "min_payload = spacex_df['Payload Mass (kg)'].min()\n",
    "\n",
    "# Create a dash application\n",
    "app = dash.Dash(__name__)\n",
    "\n",
    "# Create an app layout\n",
    "app.layout = html.Div(children=[html.H1('SpaceX Launch Records Dashboard',\n",
    "                                        style={'textAlign': 'center', 'color': '#503D36',\n",
    "                                               'font-size': 40}),\n",
    "                                # TASK 1: Add a dropdown list to enable Launch Site selection\n",
    "                                # The default select value is for ALL sites\n",
    "                                # dcc.Dropdown(id='site-dropdown',...)\n",
    "                                 html.Div([dcc.Dropdown(id='site-dropdown',\n",
    "                                 options=[{'label': 'All Sites', 'value': 'ALL'},\n",
    "                                         {'label': 'CCAFS LC-40', 'value': 'CCAFS LC-40'},\n",
    "                                         {'label': 'VAFB SLC-4E', 'value': 'VAFB SLC-4E'},\n",
    "                                         {'label': 'KSC LC-39A', 'value': 'KSC LC-39A'},\n",
    "                                         {'label': 'CCAFS SLC-40', 'value': 'CCAFS SLC-40'}],\n",
    "                                                        \n",
    "                value='ALL',\n",
    "                placeholder=\"place holder here\",\n",
    "                searchable=True\n",
    "                )]),\n",
    "                                html.Br(),\n",
    "\n",
    "                                # TASK 2: Add a pie chart to show the total successful launches count for all sites\n",
    "                                # If a specific launch site was selected, show the Success vs. Failed counts for the site\n",
    "                                html.Div(dcc.Graph(id='success-pie-chart')),\n",
    "                                html.Br(),\n",
    "                                # TASK 3: Add a slider to select payload range\n",
    "                                #dcc.RangeSlider(id='payload-slider',...)\n",
    "                                html.P(\"Payload range (Kg):\"),dcc.RangeSlider(id='payload-slider',\n",
    "                                min=0, max=10000, step=1000,marks={0:'0',2500:'2500',5000:'5000',7500:'7500',10000:'10000'},\n",
    "                                                                              \n",
    "                                value=[min_payload, max_payload]),\n",
    "\n",
    "                                # TASK 4: Add a scatter chart to show the correlation between payload and launch success\n",
    "                                html.Div(dcc.Graph(id='success-payload-scatter-chart')),\n",
    "                                \n",
    "                                ])\n",
    "\n",
    "# TASK 2:\n",
    "# Add a callback function for `site-dropdown` as input, `success-pie-chart` as output\n",
    "# Function decorator to specify function input and output\n",
    "@app.callback(Output(component_id='success-pie-chart', component_property='figure'),\n",
    "              Input(component_id='site-dropdown', component_property='value'))\n",
    "def get_pie_chart(entered_site):\n",
    "    filtered_df = spacex_df\n",
    "    if entered_site == 'ALL':\n",
    "        fig = px.pie(filtered_df, values='class', \n",
    "        names='Launch Site', \n",
    "        title='Total Success Launches By Site ')\n",
    "        return fig\n",
    "    else:\n",
    "       filtered_df = spacex_df.groupby('class',as_index=False)['Launch Site'].value_counts() \n",
    "       data=filtered_df[filtered_df['Launch Site']==entered_site]\n",
    "       fig = px.pie(data, values='count', \n",
    "       names='class', \n",
    "       title='Total Success Launches By Site ')\n",
    "       return fig\n",
    "        # return the outcomes piechart for a selected site\n",
    "# TASK 4:\n",
    "# Add a callback function for `site-dropdown` and `payload-slider` as inputs, `success-payload-scatter-chart` as output\n",
    "@app.callback(Output(component_id='success-payload-scatter-chart', component_property='figure'),\n",
    "              [Input(component_id='site-dropdown', component_property='value'), Input(component_id=\"payload-slider\", component_property=\"value\")])\n",
    "def get_scatter_chart(entered_site,slider_range):\n",
    "    min_load,max_load=slider_range\n",
    "    data= spacex_df[(df['Payload Mass (kg)']>min_load)&(df['Payload Mass (kg)']<max_load)]\n",
    "    if entered_site == 'ALL':\n",
    "       fig1=px.scatter(data,y='class',x='Payload Mass (kg)',color='Booster Version Category',\n",
    "                       title='Correlation between Payload and success for all Sites') \n",
    "       return fig1 \n",
    "    else:\n",
    "       data1=data[spacex_df['Launch Site']==entered_site]\n",
    "       fig1=px.scatter(data1,y='class',x='Payload Mass (kg)',color='Booster Version Category',\n",
    "                       title='Correlation between Payload and success for all Sites') \n",
    "       return fig1\n",
    "# Run the app\n",
    "if __name__ == '__main__':\n",
    "    app.run_server(debug=True,port=8053)"
   ]
  },
  {
   "cell_type": "markdown",
   "id": "22b1f6af-5f2c-4473-9e80-4e77a4e4f77f",
   "metadata": {},
   "source": [
    "1- KSC LC-39A has the largest successful launches about 41.7%\n",
    "2- CCAFS SLC-40 site has the highest launch success rate about 42.9 % \n",
    "3- ranges between 2000 and 5000 has the highest launch success rate\n",
    "4- ranges between 0kg and 3000 kg has the lowest rate success\n",
    "5- F9 Booster version FT has the highest success rate"
   ]
  },
  {
   "cell_type": "code",
   "execution_count": null,
   "id": "8f15bd6c-9f27-4e85-a369-748d615d802f",
   "metadata": {},
   "outputs": [],
   "source": []
  }
 ],
 "metadata": {
  "kernelspec": {
   "display_name": "Python 3 (ipykernel)",
   "language": "python",
   "name": "python3"
  },
  "language_info": {
   "codemirror_mode": {
    "name": "ipython",
    "version": 3
   },
   "file_extension": ".py",
   "mimetype": "text/x-python",
   "name": "python",
   "nbconvert_exporter": "python",
   "pygments_lexer": "ipython3",
   "version": "3.11.5"
  }
 },
 "nbformat": 4,
 "nbformat_minor": 5
}
